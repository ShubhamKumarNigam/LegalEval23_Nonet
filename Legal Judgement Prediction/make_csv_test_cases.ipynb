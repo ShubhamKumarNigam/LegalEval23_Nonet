{
 "cells": [
  {
   "cell_type": "code",
   "execution_count": 2,
   "id": "1e9f7bf5",
   "metadata": {},
   "outputs": [],
   "source": [
    "import os\n",
    "import pandas as pd\n",
    "import csv\n"
   ]
  },
  {
   "cell_type": "code",
   "execution_count": 6,
   "id": "fad7f634",
   "metadata": {},
   "outputs": [],
   "source": [
    "dummy_prdiction = pd.read_csv('') # path to dummy test dataset\n"
   ]
  },
  {
   "cell_type": "code",
   "execution_count": 7,
   "id": "69939032",
   "metadata": {},
   "outputs": [
    {
     "data": {
      "text/html": [
       "<div>\n",
       "<style scoped>\n",
       "    .dataframe tbody tr th:only-of-type {\n",
       "        vertical-align: middle;\n",
       "    }\n",
       "\n",
       "    .dataframe tbody tr th {\n",
       "        vertical-align: top;\n",
       "    }\n",
       "\n",
       "    .dataframe thead th {\n",
       "        text-align: right;\n",
       "    }\n",
       "</style>\n",
       "<table border=\"1\" class=\"dataframe\">\n",
       "  <thead>\n",
       "    <tr style=\"text-align: right;\">\n",
       "      <th></th>\n",
       "      <th>uid</th>\n",
       "      <th>prediction</th>\n",
       "    </tr>\n",
       "  </thead>\n",
       "  <tbody>\n",
       "    <tr>\n",
       "      <th>0</th>\n",
       "      <td>fe23c4f9-34a7-4654-9acf-f69a047e8573</td>\n",
       "      <td>0</td>\n",
       "    </tr>\n",
       "    <tr>\n",
       "      <th>1</th>\n",
       "      <td>44f7b8e2-afb3-46d2-8809-58d1e7309811</td>\n",
       "      <td>1</td>\n",
       "    </tr>\n",
       "    <tr>\n",
       "      <th>2</th>\n",
       "      <td>e8f012c9-0746-4d04-bfca-29dccd846ecd</td>\n",
       "      <td>1</td>\n",
       "    </tr>\n",
       "    <tr>\n",
       "      <th>3</th>\n",
       "      <td>205092e3-e63c-4f55-bff0-0d026c1f1839</td>\n",
       "      <td>1</td>\n",
       "    </tr>\n",
       "    <tr>\n",
       "      <th>4</th>\n",
       "      <td>19a739dc-347d-4315-bb8c-cea259da2f18</td>\n",
       "      <td>1</td>\n",
       "    </tr>\n",
       "    <tr>\n",
       "      <th>...</th>\n",
       "      <td>...</td>\n",
       "      <td>...</td>\n",
       "    </tr>\n",
       "    <tr>\n",
       "      <th>1495</th>\n",
       "      <td>81684922-d66b-4f01-8307-da04a23dd85e</td>\n",
       "      <td>0</td>\n",
       "    </tr>\n",
       "    <tr>\n",
       "      <th>1496</th>\n",
       "      <td>d91dad4c-a90e-4ef1-a82f-685424711b61</td>\n",
       "      <td>1</td>\n",
       "    </tr>\n",
       "    <tr>\n",
       "      <th>1497</th>\n",
       "      <td>42a85e91-eb30-47ec-aa28-d9d7a03d5949</td>\n",
       "      <td>1</td>\n",
       "    </tr>\n",
       "    <tr>\n",
       "      <th>1498</th>\n",
       "      <td>eb998807-a424-4082-a02d-fa77ce41ff65</td>\n",
       "      <td>0</td>\n",
       "    </tr>\n",
       "    <tr>\n",
       "      <th>1499</th>\n",
       "      <td>339526b6-52c1-4c52-b59b-47e77eab1ed8</td>\n",
       "      <td>0</td>\n",
       "    </tr>\n",
       "  </tbody>\n",
       "</table>\n",
       "<p>1500 rows × 2 columns</p>\n",
       "</div>"
      ],
      "text/plain": [
       "                                       uid  prediction\n",
       "0     fe23c4f9-34a7-4654-9acf-f69a047e8573           0\n",
       "1     44f7b8e2-afb3-46d2-8809-58d1e7309811           1\n",
       "2     e8f012c9-0746-4d04-bfca-29dccd846ecd           1\n",
       "3     205092e3-e63c-4f55-bff0-0d026c1f1839           1\n",
       "4     19a739dc-347d-4315-bb8c-cea259da2f18           1\n",
       "...                                    ...         ...\n",
       "1495  81684922-d66b-4f01-8307-da04a23dd85e           0\n",
       "1496  d91dad4c-a90e-4ef1-a82f-685424711b61           1\n",
       "1497  42a85e91-eb30-47ec-aa28-d9d7a03d5949           1\n",
       "1498  eb998807-a424-4082-a02d-fa77ce41ff65           0\n",
       "1499  339526b6-52c1-4c52-b59b-47e77eab1ed8           0\n",
       "\n",
       "[1500 rows x 2 columns]"
      ]
     },
     "execution_count": 7,
     "metadata": {},
     "output_type": "execute_result"
    }
   ],
   "source": [
    "dummy_prdiction"
   ]
  },
  {
   "cell_type": "code",
   "execution_count": 8,
   "id": "4f5c87d8",
   "metadata": {},
   "outputs": [],
   "source": [
    "file_path = \"\" #file path"
   ]
  },
  {
   "cell_type": "code",
   "execution_count": 15,
   "id": "4b43e118",
   "metadata": {},
   "outputs": [
    {
     "data": {
      "text/plain": [
       "0       fe23c4f9-34a7-4654-9acf-f69a047e8573\n",
       "1       44f7b8e2-afb3-46d2-8809-58d1e7309811\n",
       "2       e8f012c9-0746-4d04-bfca-29dccd846ecd\n",
       "3       205092e3-e63c-4f55-bff0-0d026c1f1839\n",
       "4       19a739dc-347d-4315-bb8c-cea259da2f18\n",
       "                        ...                 \n",
       "1495    81684922-d66b-4f01-8307-da04a23dd85e\n",
       "1496    d91dad4c-a90e-4ef1-a82f-685424711b61\n",
       "1497    42a85e91-eb30-47ec-aa28-d9d7a03d5949\n",
       "1498    eb998807-a424-4082-a02d-fa77ce41ff65\n",
       "1499    339526b6-52c1-4c52-b59b-47e77eab1ed8\n",
       "Name: uid, Length: 1500, dtype: object"
      ]
     },
     "execution_count": 15,
     "metadata": {},
     "output_type": "execute_result"
    }
   ],
   "source": [
    "dummy_prdiction['uid']"
   ]
  },
  {
   "cell_type": "code",
   "execution_count": 53,
   "id": "df2be4d4",
   "metadata": {},
   "outputs": [],
   "source": [
    "files_list = os.listdir(file_path)\n",
    "\n",
    "labs = []\n",
    "name = []\n",
    "all_text = []\n",
    "for (root, dirs, file) in os.walk(file_path):\n",
    "    for f in file:\n",
    "        text = open(os.path.join(root,f),\"r\").read()\n",
    "        name.append(f[:-4])\n",
    "        all_text.append(text)\n",
    "        lab = dummy_prdiction['prediction'] [dummy_prdiction['uid'] == f[:-4]].values[0]\n",
    "#         print(lab)\n",
    "        \n",
    "        labs.append(lab)\n",
    "    \n",
    "    dict = {\"name\": name, \"text\": all_text, \"label\":labs }"
   ]
  },
  {
   "cell_type": "code",
   "execution_count": 54,
   "id": "825503f0",
   "metadata": {},
   "outputs": [],
   "source": [
    "df = pd.DataFrame(dict)"
   ]
  },
  {
   "cell_type": "code",
   "execution_count": 55,
   "id": "28194bbc",
   "metadata": {},
   "outputs": [
    {
     "data": {
      "text/html": [
       "<div>\n",
       "<style scoped>\n",
       "    .dataframe tbody tr th:only-of-type {\n",
       "        vertical-align: middle;\n",
       "    }\n",
       "\n",
       "    .dataframe tbody tr th {\n",
       "        vertical-align: top;\n",
       "    }\n",
       "\n",
       "    .dataframe thead th {\n",
       "        text-align: right;\n",
       "    }\n",
       "</style>\n",
       "<table border=\"1\" class=\"dataframe\">\n",
       "  <thead>\n",
       "    <tr style=\"text-align: right;\">\n",
       "      <th></th>\n",
       "      <th>name</th>\n",
       "      <th>text</th>\n",
       "      <th>label</th>\n",
       "    </tr>\n",
       "  </thead>\n",
       "  <tbody>\n",
       "    <tr>\n",
       "      <th>0</th>\n",
       "      <td>f99bc669-fc11-4fd2-94cb-1aaa06d61311</td>\n",
       "      <td>v. ramana, j. civil appeal number 673 of 2012...</td>\n",
       "      <td>0</td>\n",
       "    </tr>\n",
       "    <tr>\n",
       "      <th>1</th>\n",
       "      <td>76fbba43-bc53-467d-a303-bdb252c8c471</td>\n",
       "      <td>m. sundresh, j. a well merited judgment of th...</td>\n",
       "      <td>0</td>\n",
       "    </tr>\n",
       "    <tr>\n",
       "      <th>2</th>\n",
       "      <td>b0dd0ff9-9e54-43d3-a40d-226e4c79d671</td>\n",
       "      <td>pamidighantam sri narasimha, j. these criminal...</td>\n",
       "      <td>1</td>\n",
       "    </tr>\n",
       "    <tr>\n",
       "      <th>3</th>\n",
       "      <td>9b405c09-5cfc-478b-80f5-d88e0be9d437</td>\n",
       "      <td>r. shah, j. feeling aggrieved and dissatisfie...</td>\n",
       "      <td>1</td>\n",
       "    </tr>\n",
       "    <tr>\n",
       "      <th>4</th>\n",
       "      <td>0d05060d-8cce-4677-8a48-a57785422a62</td>\n",
       "      <td>ravindra bhat, j. with company sent of compan...</td>\n",
       "      <td>1</td>\n",
       "    </tr>\n",
       "    <tr>\n",
       "      <th>...</th>\n",
       "      <td>...</td>\n",
       "      <td>...</td>\n",
       "      <td>...</td>\n",
       "    </tr>\n",
       "    <tr>\n",
       "      <th>1495</th>\n",
       "      <td>52301af3-83be-48b5-9321-3c9323732207</td>\n",
       "      <td>r. gavai, j. leave granted. by the present ap...</td>\n",
       "      <td>1</td>\n",
       "    </tr>\n",
       "    <tr>\n",
       "      <th>1496</th>\n",
       "      <td>2187a932-6ec0-4487-b798-8cb53ee3c8f9</td>\n",
       "      <td>indira banerjee, j. leave granted. this appeal...</td>\n",
       "      <td>1</td>\n",
       "    </tr>\n",
       "    <tr>\n",
       "      <th>1497</th>\n",
       "      <td>9b3fdaaf-6749-4233-8c4d-edf9c4bf8a13</td>\n",
       "      <td>indira banerjee, j. this appeal, under section...</td>\n",
       "      <td>0</td>\n",
       "    </tr>\n",
       "    <tr>\n",
       "      <th>1498</th>\n",
       "      <td>b7d5e771-dc7a-4df7-bc4e-a9ae6d54d038</td>\n",
       "      <td>nageswara rao, j. the company plaint of the w...</td>\n",
       "      <td>1</td>\n",
       "    </tr>\n",
       "    <tr>\n",
       "      <th>1499</th>\n",
       "      <td>9b280c24-8eff-41cd-aa61-d05ba1b39e2f</td>\n",
       "      <td>sanjay kishan kaul, j. background the company ...</td>\n",
       "      <td>1</td>\n",
       "    </tr>\n",
       "  </tbody>\n",
       "</table>\n",
       "<p>1500 rows × 3 columns</p>\n",
       "</div>"
      ],
      "text/plain": [
       "                                      name  \\\n",
       "0     f99bc669-fc11-4fd2-94cb-1aaa06d61311   \n",
       "1     76fbba43-bc53-467d-a303-bdb252c8c471   \n",
       "2     b0dd0ff9-9e54-43d3-a40d-226e4c79d671   \n",
       "3     9b405c09-5cfc-478b-80f5-d88e0be9d437   \n",
       "4     0d05060d-8cce-4677-8a48-a57785422a62   \n",
       "...                                    ...   \n",
       "1495  52301af3-83be-48b5-9321-3c9323732207   \n",
       "1496  2187a932-6ec0-4487-b798-8cb53ee3c8f9   \n",
       "1497  9b3fdaaf-6749-4233-8c4d-edf9c4bf8a13   \n",
       "1498  b7d5e771-dc7a-4df7-bc4e-a9ae6d54d038   \n",
       "1499  9b280c24-8eff-41cd-aa61-d05ba1b39e2f   \n",
       "\n",
       "                                                   text  label  \n",
       "0      v. ramana, j. civil appeal number 673 of 2012...      0  \n",
       "1      m. sundresh, j. a well merited judgment of th...      0  \n",
       "2     pamidighantam sri narasimha, j. these criminal...      1  \n",
       "3      r. shah, j. feeling aggrieved and dissatisfie...      1  \n",
       "4      ravindra bhat, j. with company sent of compan...      1  \n",
       "...                                                 ...    ...  \n",
       "1495   r. gavai, j. leave granted. by the present ap...      1  \n",
       "1496  indira banerjee, j. leave granted. this appeal...      1  \n",
       "1497  indira banerjee, j. this appeal, under section...      0  \n",
       "1498   nageswara rao, j. the company plaint of the w...      1  \n",
       "1499  sanjay kishan kaul, j. background the company ...      1  \n",
       "\n",
       "[1500 rows x 3 columns]"
      ]
     },
     "execution_count": 55,
     "metadata": {},
     "output_type": "execute_result"
    }
   ],
   "source": [
    "df"
   ]
  },
  {
   "cell_type": "code",
   "execution_count": 56,
   "id": "7243adcd",
   "metadata": {},
   "outputs": [],
   "source": [
    "# saving the dataframe\n",
    "df.to_csv('') #file path where you want to save"
   ]
  },
  {
   "cell_type": "code",
   "execution_count": null,
   "id": "406628c6",
   "metadata": {},
   "outputs": [],
   "source": []
  },
  {
   "cell_type": "code",
   "execution_count": null,
   "id": "ef3a047b",
   "metadata": {},
   "outputs": [],
   "source": []
  },
  {
   "cell_type": "code",
   "execution_count": null,
   "id": "3026a916",
   "metadata": {},
   "outputs": [],
   "source": []
  },
  {
   "cell_type": "code",
   "execution_count": null,
   "id": "e496a543",
   "metadata": {},
   "outputs": [],
   "source": []
  },
  {
   "cell_type": "code",
   "execution_count": null,
   "id": "02890ae4",
   "metadata": {},
   "outputs": [],
   "source": []
  },
  {
   "cell_type": "code",
   "execution_count": null,
   "id": "10c1b3ae",
   "metadata": {},
   "outputs": [],
   "source": []
  }
 ],
 "metadata": {
  "kernelspec": {
   "display_name": "Python 3 (ipykernel)",
   "language": "python",
   "name": "python3"
  },
  "language_info": {
   "codemirror_mode": {
    "name": "ipython",
    "version": 3
   },
   "file_extension": ".py",
   "mimetype": "text/x-python",
   "name": "python",
   "nbconvert_exporter": "python",
   "pygments_lexer": "ipython3",
   "version": "3.7.13"
  }
 },
 "nbformat": 4,
 "nbformat_minor": 5
}
